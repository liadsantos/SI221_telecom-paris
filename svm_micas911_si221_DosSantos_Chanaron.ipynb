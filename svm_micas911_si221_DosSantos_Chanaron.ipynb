{
  "cells": [
    {
      "cell_type": "markdown",
      "metadata": {
        "id": "hXc1XtEm7U-J"
      },
      "source": [
        "# Homework 5: Support Vector Machines (SVM)\n",
        "\n",
        "In this homework we will implement the Suport Vector Machine algorithm using Gradient Descent.\n",
        "\n",
        "We use as reference the chapter 15 of Understanding Machine Learning.\n",
        "\n",
        "This exercise can be done in pairs. Please, leave all of your answers on this notebook, which will be the only file you will have to deliver.\n",
        "\n",
        "Copy this notebook and insert the corresponding names on the file.\n",
        "\n",
        "**If you have any questions feel free to send an email to:**\n",
        "\n",
        "### ibrahim.djemai@telecom-sudparis.eu \n",
        "\n",
        "### breno.skuk@gmail.com"
      ]
    },
    {
      "cell_type": "markdown",
      "source": [
        "Lais Isabelle Alves dos Santos\n",
        "\n",
        "Louis Chanaron"
      ],
      "metadata": {
        "id": "1DGG1tvWL4JV"
      }
    },
    {
      "cell_type": "markdown",
      "source": [
        "# Part 1: From theory to algorithm"
      ],
      "metadata": {
        "id": "i8qDXbUobLrr"
      }
    },
    {
      "cell_type": "markdown",
      "source": [
        "<img src=\"https://vitalflux.com/wp-content/uploads/2020/07/Screenshot-2020-07-07-at-3.44.38-PM.png\">\n",
        "\n",
        "**Figure 1:** Visualization in $\\mathbb{R^2}$ of a hyperplane $W$, margin and samples. \n",
        "\n",
        "<img src=\"https://www.holehouse.org/mlclass/12_Support_Vector_Machines_files/Image%20[12].png\">\n",
        "\n",
        "**Figure 2:**  Notice that the epigraph (set of points above the function) of the cost  is convex. This would not hold for $l_{0-1}$."
      ],
      "metadata": {
        "id": "XMjiICCe64dC"
      }
    },
    {
      "cell_type": "markdown",
      "source": [
        "## Support Vector Machines (SVM) in a nutshell\n",
        "\n",
        "The SVM algorithmic paradigm performs a search for “large margin” separators. Roughly speaking, a halfspace separates a training set with a large margin if all the examples are not only on the correct side of the separating hyperplane but also far away from it. Figure 1 offers an intuitive understanding of the concept of margin.\n",
        "\n",
        "\n",
        "The objective of the SVM algorithm is thus to find not only a hyperplane that separates the data, but to impose the condition that it maximizes the distance between the points of both labels and the hyperplane. \n",
        "\n",
        "To solve this learning problem, we can write a regularized loss function that will include the notion of \"distance to a margin\". This Loss function can be shown to follow certain conditions, such as convexity, and thus, can be shown to be learnable trough Gradient Descent. \n",
        "\n",
        "The development of such a loss function and associated proofs are thoroughly discussed in the book Understanding Machine Learning. We recommend interested students (that will eventually have the time) towards Chapter 12, which discusses convex learning problems and establishes how one can use a surrogate loss function instead of the $l_{0-1}$ (which is not convex!), Chapter 13, which tackles regularization, Chapter 14, which discusses Gradient Descent learning methods, and Chapter 15, which applies all of the previous concepts to finally define equation $(1)$.\n",
        "\n",
        "Although the theory to achieve a precise understanding of why and how Support Vector Machine work requires much time and the application of different domains of mathematics, its inner workings remain quite intuitive. \n",
        "\n",
        "In this exercise, we will directly proceed to the algorithmic implementation of SVM, which, it turns out, requires less time to implement than to fully understand.\n",
        "\n",
        "**Optimization and Gradient Descent**\n",
        "\n",
        "Let $S^N = (x_i,y_i)_{i\\in[m]}$ be a training set with $N$ samples, where $x \\in \\mathbb{R}^{d}$ and $y \\in \\{-1,+1\\}$. \n",
        "\n",
        "Let $W \\in \\mathbb{R}^{d}$ define a hyperplane.\n",
        "\n",
        "For the following deduction, we will consider the case where the bias has been incorporated in the first coordinate of the weights, as well as the data. \n",
        "\n",
        "We define the following cost function:\n",
        "$$J(W) =  \\left[\\frac{\\lambda}{2}\\lVert W \\rVert^2 + \\frac{1}{N} \\sum_{i=1}^{N} \\max(0, 1 - y_i \\cdot (W^T \\cdot x_i)) \\right] \\tag{1}$$\n",
        "\n",
        "The notion of achieving a distance to a margin appears on equation $(1)$ for each $x_i$ as $\\langle W,x_i \\rangle = W^T\\cdot x_i$, where we note $W^T$ as the transpose of the vector $W$.\n",
        "\n",
        "Furthermore, when using the $\\max (0, 1-y_i \\cdot (W^T \\cdot x_i))$ we include a restriction on the decision boundary to cost function, as shown in Figure 2. This corresponds to applying $l_{hinge}$ as a surrogate loss function instead of $l_{0-1}$, which is not convex with respect to $W$.\n",
        "\n",
        "To restrict the influence of noisy data, we also include a regularization term controlled by a factor $\\lambda \\geq 0$. This term appears on equation $(1)$ as $||W||^2$. \n",
        "\n",
        "We will then chose a hyperplane $\\hat{W}$ by solving the following minimization problem.\n",
        "\n",
        "\n",
        "$$  \\hat{W} = arg \\min_W \\left (  \\frac{\\lambda}{2}||W||^2 + \\frac{1}{N} \\sum^N_{i=1}\\max(0, 1-y_i \\cdot (W^T \\cdot x_i)) \\tag{2} \\right )$$\n",
        "\n",
        "The gradient of $J$ wrp to $W$ is given by:\n",
        "\n",
        "$$\\nabla J(W) = \\lambda W + \\frac{1}{N} \\sum_{i=1}^{N} \\textbf{I}\\{y_i \\cdot (W^T \\cdot x_i) \\leq 1\\} (-y_i \\cdot x_i) \\tag{3}$$\n",
        "\n",
        "Where $\\textbf{I}$ is the indicator function.\n",
        "\n",
        "Since $(2)$ this is a quadratic optimization problem, we can apply the learning rule defined by the gradient descent and write the update as:\n",
        "\n",
        "$$W^{(t+1)} \\leftarrow W^{(t)} - lr \\cdot \\nabla J(W^{(t)}) \\tag{4}$$\n",
        "\n",
        "Finally, in practice, we can write:\n",
        "\n",
        "$$W^{(t+1)} \\leftarrow W^{(t)}(1 - \\lambda') - lr \\cdot\\frac{1}{N} \\sum_{i=1}^{N} \\textbf{I}\\{y_i \\cdot (W^T \\cdot x_i) \\leq 1\\} (-y_i \\cdot x_i) \\tag{5}$$\n",
        "\n",
        "Where $\\lambda' = \\lambda \\cdot lr$. The algorithm for solving the SVM is iteratively given by computing the gradient at each iteration and updating the hyperplan $W^t$ using the formula above. \n",
        "\n",
        "**The hyperparameters of a SVM model:**\n",
        "\n",
        "\n",
        "*   The initialization $W^0$.\n",
        "*   The learning rate $lr$.\n",
        "*   The regularization term $\\lambda$ \n",
        "\n",
        "**Final considerations:**\n",
        "\n",
        "The regularization can be seen as an \"inertia\" related to changing the weight. Note that adding/subtracting $W$ to itself will not change the classification (why?).\n",
        "\n",
        "The term corresponding to the gradient of $\\mathcal{l}_{hinge}$ will only have nonzero values whenever $x_i$ is missclassified accounting for the margin (why?).\n",
        "\n",
        "The learning rate value is chosen by the programmer, but it should not be large (why?).\n"
      ],
      "metadata": {
        "id": "XS5335vmbOmN"
      }
    },
    {
      "cell_type": "markdown",
      "source": [
        "## Question 1: \n",
        "The SVM minimization problem is closely related to the perceptron algorithm. Discuss at least one difference and one similarity between the objective functions.\n",
        "\n"
      ],
      "metadata": {
        "id": "9ugXZdcFnnUt"
      }
    },
    {
      "cell_type": "markdown",
      "source": [
        "**Similarities:**\n",
        "*   Depending on the dataset (linear data), Perceptron is also a good classifier of two classes, finding the hyperplane that separates the data (but not better than SVM).\n",
        "\n",
        "---\n",
        "\n",
        "**Differences:**\n",
        "*   Perceptron stops if he finds a hyperplane that correctly separates the two data classes. On the other hand, the SVM stops if he finds the best hyperplane, with a maximum distance between the support vectors. This SVM characteristic make this classifier more robust to find the best separator.\n",
        "\n"
      ],
      "metadata": {
        "id": "vbX0MIMUZKw_"
      }
    },
    {
      "cell_type": "markdown",
      "source": [
        "## Question 2:\n",
        "Complete the functions defined below"
      ],
      "metadata": {
        "id": "njnUnHIky_tD"
      }
    },
    {
      "cell_type": "code",
      "execution_count": null,
      "metadata": {
        "id": "OjmUkKsJ7U-Q"
      },
      "outputs": [],
      "source": [
        "import numpy as np\n",
        "import numpy.random as rd\n",
        "import pandas as pd\n",
        "import matplotlib.pyplot as plt\n",
        "import math\n",
        "from sklearn.preprocessing import StandardScaler\n",
        "from sklearn.model_selection import train_test_split\n",
        "from sklearn import svm\n",
        "from sklearn.svm import SVC\n",
        "from sklearn.metrics import f1_score"
      ]
    },
    {
      "cell_type": "markdown",
      "metadata": {
        "id": "KWsC8TAU7U-U"
      },
      "source": [
        "### Compute the cost and its gradient using previously defined equations"
      ]
    },
    {
      "cell_type": "code",
      "execution_count": null,
      "metadata": {
        "id": "AHb1VfEy7U-V"
      },
      "outputs": [],
      "source": [
        "def getCost(W, X, Y, lam):\n",
        "  \"\"\"\n",
        "  Compute the cost\n",
        "\n",
        "  Parameters:\n",
        "  -----------\n",
        "  `W` : SVM Weights [d x 1]\n",
        "  `X` : Input data [d x N]\n",
        "  `Y` : Labels [1 x N]\n",
        "  `lam` : Regularization parameter\n",
        "\n",
        "  Returns:\n",
        "  --------\n",
        "  `J` : Computed cost\n",
        "  \n",
        "  \"\"\"\n",
        "  J = np.mean(np.clip(1 - Y*(W.T@X), 0, None)) + lam/2*W.T@W\n",
        "\n",
        "  return J\n",
        "\n",
        "def getGradients(W, X, Y):\n",
        "  \"\"\"\n",
        "  Compute the cost gradients\n",
        "\n",
        "  Parameters:\n",
        "  -----------\n",
        "  `W` : SVM Weights [d x 1]\n",
        "  `X` : Input data [d x N]\n",
        "  `Y` : Labels [1 x N]\n",
        "\n",
        "  Returns:\n",
        "  --------\n",
        "  `dJ` : Computed gradients\n",
        "  \n",
        "  \"\"\"\n",
        "\n",
        "  dJ = lam*W + np.mean((-Y*X)[:, Y*(W.T@X) <= 1], axis=1)\n",
        "  \n",
        "  return dJ"
      ]
    },
    {
      "cell_type": "markdown",
      "metadata": {
        "id": "evd3wtZC7U-Y"
      },
      "source": [
        "### Perform a Gradient Descent Step"
      ]
    },
    {
      "cell_type": "code",
      "execution_count": null,
      "metadata": {
        "id": "VSYZT8Md7U-Z"
      },
      "outputs": [],
      "source": [
        "def gradDescent(W, X, Y, lam, lr):\n",
        "  \"\"\" \n",
        "  Update the weights with gradient descent \n",
        "  \n",
        "  Parameters:\n",
        "  -----------\n",
        "  `W` : SVM Weights [d x 1]\n",
        "  `X` : Input data [d x N]\n",
        "  `Y` : Labels [1 x N]\n",
        "  `lam` : Regularization parameter\n",
        "  `lr` : Learning Rate\n",
        "\n",
        "  Returns:\n",
        "  --------\n",
        "  `W` : Updated weights [d x 1]\n",
        "  \n",
        "  \"\"\"\n",
        "  W = W - lr*getGradients(W, X, Y)\n",
        "  \n",
        "  return W"
      ]
    },
    {
      "cell_type": "markdown",
      "metadata": {
        "id": "QbjWqUFd7U-e"
      },
      "source": [
        "### SVM functions for training and testing"
      ]
    },
    {
      "cell_type": "code",
      "execution_count": null,
      "metadata": {
        "id": "7cmHMUM97U-f"
      },
      "outputs": [],
      "source": [
        "def svmTrain(X, Y, lam=0.1, lr=0.1, c=0, maxEpochs=25, minCostDiff=1e-4, W = np.array([0, 0, 0])[:np.newaxis]):\n",
        "  \"\"\" \n",
        "  Train the SVM Model\n",
        "  \n",
        "  Parameters:\n",
        "  -----------\n",
        "  `X` : Training inputs [(d+1) x N]\n",
        "  You need to add to X a row of ones before training\n",
        "  `Y` : Training Labels [N]\n",
        "  Y must have only one dimension in this implementation (1 x N is not allowed)\n",
        "  `lam` : Regularization parameter\n",
        "  `maxEpochs` : Maximum number of epochs before stopping the training\n",
        "  `minCostDiff` : Minimum cost difference\n",
        "\n",
        "  Returns:\n",
        "  --------\n",
        "  `W` : Trained weights [d x 1]\n",
        "  \n",
        "  \"\"\"\n",
        "  Js = []\n",
        "  \n",
        "  # Randomly initialze the weights\n",
        "  eps = minCostDiff\n",
        "  k = 0\n",
        "  m = len(Y)\n",
        "  \n",
        "  converged = False # Boolean variable for convergence critereon\n",
        "\n",
        "  while not converged and k < maxEpochs:\n",
        "    # Update the weights\n",
        "    W = gradDescent(W, X, Y, lam, lr)\n",
        "    # Check if the convergence critereon is met\n",
        "    J = getCost(W, X, Y, lam)\n",
        "    Js+=[J]\n",
        "    converged = J < eps\n",
        "    k+=1\n",
        "\n",
        "    Js += [J]\n",
        "\n",
        "  return W, Js"
      ]
    },
    {
      "cell_type": "code",
      "execution_count": null,
      "metadata": {
        "id": "Pc31dW5b7U-g"
      },
      "outputs": [],
      "source": [
        "def svmTest(W, X, Y, lam):\n",
        "  \"\"\" \n",
        "  Test the SVM Model\n",
        "  \n",
        "  Parameters:\n",
        "  -----------\n",
        "  `W` : Trained weights [d x 1]\n",
        "  `X` : Testing inputs [d x N]\n",
        "  `Y` : Testing Labels [1 x N]\n",
        "\n",
        "  Returns:\n",
        "  --------\n",
        "  `J` : Overall Cost\n",
        "  `A` : Accuracy\n",
        "  `P` : Precision\n",
        "  `R` : Recall \n",
        "  \n",
        "  \"\"\"\n",
        "  J = getCost(W, X, Y, lam)\n",
        "\n",
        "  yPred = np.sign(W@X)\n",
        "  A = np.mean(Y == yPred) # how many times the ML model was correct overall\n",
        "  P = np.sum(yPred[Y==1] == 1)/np.sum(yPred == 1) # how good is the model in predicting some category\n",
        "  R = np.sum(yPred[Y==1] == 1)/np.sum(Y == 1) # how many times the model detected a specific category\n",
        "\n",
        "  return J, A, P, R"
      ]
    },
    {
      "cell_type": "markdown",
      "metadata": {
        "id": "D6GWISoJ7U-h"
      },
      "source": [
        "### Plot the data and the results\n",
        "Functions for :\n",
        "\n",
        "- Getting the decision boundary from the weights (with the positive and negative hyperplanes) and plotting it with the data.\n",
        "\n",
        "- Cost function evolution."
      ]
    },
    {
      "cell_type": "code",
      "execution_count": null,
      "metadata": {
        "id": "1khhhgkW7U-i"
      },
      "outputs": [],
      "source": [
        "def plotData(W, X, Y):\n",
        "  \"\"\"\n",
        "  Plot the data alongside the decision boundary\n",
        "\n",
        "  Parameters:\n",
        "  -----------\n",
        "  `W` : Trained weights [d x 1]\n",
        "  `X` : Training and testing inputs [d x N]\n",
        "  `Y` : Training and testing Labels [1 x N]\n",
        "    \n",
        "  \"\"\"\n",
        "  \n",
        "  X = X[1:3,:]\n",
        "\n",
        "  x_min = np.min(X[0, :]) - 0.5\n",
        "  x_max = np.max(X[0, :]) + 0.5\n",
        "  y_min = np.min(X[1, :]) - 0.5\n",
        "  y_max = np.max(X[1, :]) + 0.5\n",
        "  \n",
        "  X = X.T\n",
        "  \n",
        "  X0 = X[Y>=0,:]\n",
        "  X1 = X[Y<0,:]\n",
        "  \n",
        "  plt.scatter(X1[:, 0], X1[:, 1], c='b')\n",
        "  plt.scatter(X0[:, 0], X0[:, 1], c='r')\n",
        "\n",
        "  x = np.array([x_min, x_max])\n",
        "\n",
        "  if W[2] != 0:\n",
        "    y = -x*W[1]/W[2]-W[0]/W[2]\n",
        "    y_up = -x*W[1]/W[2]-W[0]/W[2] + 1/W[2]\n",
        "    y_down = -x*W[1]/W[2]-W[0]/W[2] - 1/W[2]\n",
        "    \n",
        "    plt.plot(x, y, 'k-')\n",
        "    plt.plot(x, y_up, 'k--')\n",
        "    plt.plot(x, y_down, 'k--')\n",
        "  else:\n",
        "    plt.vlines(0, y_min, y_max)\n",
        "  plt.xlim((x_min, x_max))\n",
        "  plt.ylim((y_min, y_max))\n",
        "  plt.show()\n",
        "\n",
        "  return\n",
        "\n",
        "def plotConvCurve(Js):\n",
        "  \"\"\"\n",
        "  Plot the cost function evolution\n",
        "\n",
        "  Parameters:\n",
        "  -----------\n",
        "  `Js` : Calculated costs at each epoch\n",
        "  \"\"\"\n",
        "  N = [k for k in range(len(Js))]\n",
        "  plt.plot(N, Js)\n",
        "  plt.xlabel(\"Epoch\")\n",
        "  plt.ylabel(\"J\")\n",
        "  plt.show()\n",
        "  return "
      ]
    },
    {
      "cell_type": "markdown",
      "source": [
        "### Synthetic Data generation :\n",
        "Consider a data set $\\{x(n), d(n)\\}^{200}_{n=1}$ consisting of $200$ points $x(n) = (x_1(n), x_2(n))$ and\n",
        "their corresponding labels $d(n)$, such that the first $100$ points have label $d(n) = 1$ and\n",
        "are generated according to a Gaussian distribution $x(n) ∼ \\mathcal{N} ([1, 0] , \\sigma^2\n",
        "I)$, and such that\n",
        "the other $100$ points have label $d(n) = 0$ and are generated according to a Gaussian\n",
        "distribution $x(n) ∼ \\mathcal{N} ([0, -1] , \\sigma^2\n",
        "I)$."
      ],
      "metadata": {
        "id": "a-_R8EbJzPy9"
      }
    },
    {
      "cell_type": "code",
      "execution_count": null,
      "metadata": {
        "id": "RtEZa13oapIz"
      },
      "outputs": [],
      "source": [
        "def genData(meanPos, meanNeg, sigma, N):\n",
        "  \"\"\"\n",
        "  Generate synthetic data following the gaussian distribution\n",
        "\n",
        "  Parameters:\n",
        "  -----------\n",
        "  `meanPos` : Mean for the Data with label d(n) = 1 [1 x 2]\n",
        "  `meanNeg` : Mean for the Data with label d(n) = 0 [1 x 2]\n",
        "  `sigmas` :  Standard deviation\n",
        "  \n",
        "  Returns:\n",
        "  --------\n",
        "  `X` : Input Data\n",
        "  `Y` : Labels\n",
        "    \n",
        "  \"\"\"\n",
        "  X1 = rd.multivariate_normal(meanPos, sigma*np.eye(2), size=int(np.ceil(N//2)))\n",
        "  X0 = rd.multivariate_normal(meanNeg, sigma*np.eye(2), size=(N//2))\n",
        "  Y1 = np.ones(len(X1))\n",
        "  Y0 = -np.ones(len(X0))\n",
        "\n",
        "  X = np.concatenate((X0, X1))\n",
        "  Y = np.concatenate((Y0, Y1))[:, np.newaxis]\n",
        "  Z = np.concatenate((X, Y), axis=1)\n",
        "  rd.shuffle(Z)\n",
        "  X = Z[:, 0:2].T\n",
        "  X = np.concatenate((np.ones(len(X[0]))[np.newaxis], X), axis=0) # X is in homogeneous coordinates\n",
        "  Y = Z[:, 2]\n",
        "  return X, Y"
      ]
    },
    {
      "cell_type": "markdown",
      "source": [
        "### Putting everything together\n",
        "- Plot the data\n",
        "\n",
        "- Train the SVM Model using variance $\\sigma^2 = 0.25$\n",
        "\n",
        "- Plot the convergence curve\n",
        "\n",
        "- Plot the data with the decision boundary\n",
        "\n",
        "- Test the SVM Model and show the accuracy, precision and recall figures\n",
        "\n",
        "- Compare the results with the previsouly implemented Perceptron. Comment the results."
      ],
      "metadata": {
        "id": "a9jeY2naz2RH"
      }
    },
    {
      "cell_type": "code",
      "source": [
        "def main(lr, lam):\n",
        "  \"\"\" \n",
        "  Main function for training and testing the SVM \n",
        "  \n",
        "  Parameters:\n",
        "  -----------\n",
        "  `lam` : Regularization parameter\n",
        "  `lr` : Learning Rate\n",
        "  \n",
        "  \"\"\"\n",
        "  sig2 = 0.25\n",
        "  W = np.array([0, 0, 0], dtype=\"float64\")[:, np.newaxis]\n",
        "  X, Y = genData([1, 0], [0, -1], sig2, 100)\n",
        "  Xtest, Ytest = genData([1, 0], [0, -1], sig2, 100)\n",
        "  W, Js = svmTrain(X, Y, lam, lr)\n",
        "  J, A, P, R = svmTest(W, Xtest, Ytest, lam)\n",
        "  print(\"J:\", J, \"A:\", A, \"P:\", P, \"R:\", R)\n",
        "  plotConvCurve(Js)\n",
        "  plotData(W, X, Y)\n",
        "  return"
      ],
      "metadata": {
        "id": "eLgBLSmczwd7"
      },
      "execution_count": null,
      "outputs": []
    },
    {
      "cell_type": "code",
      "source": [
        "# Your Hyperparameters\n",
        "lr = 0.1\n",
        "lam = 0.001\n",
        "main(lr, lam)"
      ],
      "metadata": {
        "id": "sTtCRcPg14Rl",
        "colab": {
          "base_uri": "https://localhost:8080/",
          "height": 544
        },
        "outputId": "4e58a383-cfae-472e-fb43-fdaa8d7884fd"
      },
      "execution_count": null,
      "outputs": [
        {
          "output_type": "stream",
          "name": "stdout",
          "text": [
            "J: 0.32547211801199666 A: 0.92 P: 0.9038461538461539 R: 0.94\n"
          ]
        },
        {
          "output_type": "display_data",
          "data": {
            "text/plain": [
              "<Figure size 432x288 with 1 Axes>"
            ],
            "image/png": "[encoded data removed]"
          },
          "metadata": {
            "needs_background": "light"
          }
        },
        {
          "output_type": "display_data",
          "data": {
            "text/plain": [
              "<Figure size 432x288 with 1 Axes>"
            ],
            "image/png": "[encoded data removed]"
          },
          "metadata": {
            "needs_background": "light"
          }
        }
      ]
    },
    {
      "cell_type": "markdown",
      "source": [
        "The learning is much better than what the perceptron performed: when data is mixed like here, it gets difficult for perceptron to converge and find an optimal separator."
      ],
      "metadata": {
        "id": "YtORK4z9kzxC"
      }
    },
    {
      "cell_type": "markdown",
      "metadata": {
        "id": "kxcW4yhYapIv"
      },
      "source": [
        "# Part 2: SVM Kernel Trick\n",
        "\n",
        "In the case where the data is linearly inseparable, a linear classifier like the previously described cannot produce a seperator that is capable of classifying the data correctly (see figure below).\n",
        "\n",
        "One way to overcome this issue, is with the **kernel trick**, which is a data preprocessing approach, to project it onto a different space (of possibly higher dimension), where the data is more likely to be more seperable linearly.\n",
        "\n",
        "$\\Phi(x)$ is the kernel function, and maps the input data $x$ into another state space. \n",
        "The following figures are some examples of the kernel trick in action:\n",
        "\n",
        "<img src=\"https://vitalflux.com/wp-content/uploads/2020/07/Screenshot-2020-07-14-at-6.22.08-PM.png\">\n",
        "\n",
        "**Figure 3**: In the current one dimensional representation, data is clearly not separable by a hyperplane.\n",
        "\n",
        "In the example in Figure 3, the data is distributed in a single dimension, and is impossible to seperate it using linear classifier. If we apply the transformation $\\Phi(x) = x^2$\n",
        "as the kernel function, we map the data into a 2D space (Figure 4), where the data can be linearly seperable.\n",
        "\n",
        "<img src=\"https://vitalflux.com/wp-content/uploads/2020/07/Screenshot-2020-07-14-at-6.22.19-PM.png\">\n",
        "\n",
        "**Figure 4**: After application of a kernel, the data is represented in a higher dimension. In this case it is visually clear that not it is feasible to linearly separate the points by a hyperplane. \n",
        "\n",
        "There is a variety of kernel functions (polynomial, gaussian, RBF, sigmoid, ...) that map the data into different and higher dimensional spaces.\n",
        "\n",
        "In practice, we test the different kernel functions to see which one performs the best (there is not clear way to dertemin the best kernel function from data). \n",
        "\n",
        "Finally, notice that in Figure 3 and Figure 4, it is visually clear that the kernel method application makes the data separable. This is not usually the case (picture the same for 64 dimensions or doing SVM to classify DNA data). Fortunately. we do not have to choose kernels by intuition as there is a whole field of research dedicated to developing a sound theory for this.  We point curious students that want to know more towards the very rich field of study of Kernel Methods.\n",
        "\n",
        "## Question 3:\n",
        "We now test the use of a polynomial kernel to make our data linearly separable. First, we define our data to be sampled from a concentric circles of different radius.\n",
        "\n",
        "- Train the SVM on the data created above :\n",
        "  - the linear (default) kernel\n",
        "  - as well as the polynomial kernel.\n",
        "- Plot the data projected in the polynomial kernel\n",
        "- Comment the results. \n",
        "- Can you think of another Kernel that would be better suited for the type of data (concentric circles)?\n",
        "\n",
        "\n"
      ]
    },
    {
      "cell_type": "code",
      "execution_count": null,
      "metadata": {
        "colab": {
          "base_uri": "https://localhost:8080/",
          "height": 411
        },
        "id": "3Bto9PysapIv",
        "outputId": "57600755-9ad3-4620-f2cf-79163807b7ba"
      },
      "outputs": [
        {
          "output_type": "display_data",
          "data": {
            "text/plain": [
              "<Figure size 504x504 with 1 Axes>"
            ],
            "image/png": "[encoded data removed]"
          },
          "metadata": {
            "needs_background": "light"
          }
        }
      ],
      "source": [
        "N = [100,100]\n",
        "\n",
        "y = np.zeros((1, 200))\n",
        "y[0, 100:] = 1\n",
        "\n",
        "theta1 = 2*np.pi*np.random.rand(1,N[1])\n",
        "r1 = .3 + .2*np.random.rand(1,N[1])\n",
        "points1 = np.vstack((np.cos(theta1)*r1,np.sin(theta1)*r1))\n",
        "\n",
        "theta2 = 2*np.pi*np.random.rand(1,N[1])\n",
        "r2 = .8 + .2*np.random.rand(1,N[1])\n",
        "points2 = np.vstack((np.cos(theta2)*r2,np.sin(theta2)*r2))\n",
        "\n",
        "x = np.hstack((points1, points2))\n",
        "\n",
        "plotp = lambda x,col: plt.scatter(x[0,:], x[1,:], s=200, edgecolors=\"k\", c=col, linewidths=2)\n",
        "\n",
        "plt.figure(figsize=(7, 7))\n",
        "\n",
        "plotp(points1, 'y')\n",
        "plotp(points2, 'r')\n",
        "\n",
        "plt.axis(\"off\")\n",
        "plt.xlim(np.min(points2[0,:])-1,np.max(points2[0,:])+1)\n",
        "plt.ylim(np.min(points2[1,:])-1,np.max(points2[1,:])+1)\n",
        "\n",
        "\n",
        "plt.show()"
      ]
    },
    {
      "cell_type": "code",
      "source": [
        "print(f'data shapes : {x.shape}, {y.shape}')"
      ],
      "metadata": {
        "id": "1Ov6-bfh5NfH",
        "colab": {
          "base_uri": "https://localhost:8080/"
        },
        "outputId": "312a44b1-eef1-4624-ba61-e8d9af72f348"
      },
      "execution_count": null,
      "outputs": [
        {
          "output_type": "stream",
          "name": "stdout",
          "text": [
            "data shapes : (2, 200), (1, 200)\n"
          ]
        }
      ]
    },
    {
      "cell_type": "code",
      "source": [
        "y[y<0.5] = -np.ones(len(y//2))\n",
        "X = np.concatenate((np.ones(len(x[0]))[np.newaxis], x), axis=0)\n",
        "Y = y[0,:]\n",
        "W, Js = svmTrain(X, Y, lam, lr)\n",
        "J, A, P, R = svmTest(W, X, Y, lam)\n",
        "print(\"J:\", J, \"A:\", A, \"P:\", P, \"R:\", R)\n",
        "plotConvCurve(Js)\n",
        "plotData(W, X, Y)"
      ],
      "metadata": {
        "colab": {
          "base_uri": "https://localhost:8080/",
          "height": 547
        },
        "id": "Ukuc00UmWh4M",
        "outputId": "aa9845f5-988a-4edc-87ff-d988c8fb08a9"
      },
      "execution_count": null,
      "outputs": [
        {
          "output_type": "stream",
          "name": "stdout",
          "text": [
            "J: 0.9902473774489451 A: 0.555 P: 0.5523809523809524 R: 0.58\n"
          ]
        },
        {
          "output_type": "display_data",
          "data": {
            "text/plain": [
              "<Figure size 432x288 with 1 Axes>"
            ],
            "image/png": "[encoded data removed]"
          },
          "metadata": {
            "needs_background": "light"
          }
        },
        {
          "output_type": "display_data",
          "data": {
            "text/plain": [
              "<Figure size 432x288 with 1 Axes>"
            ],
            "image/png": "[encoded data removed]"
          },
          "metadata": {
            "needs_background": "light"
          }
        }
      ]
    },
    {
      "cell_type": "markdown",
      "source": [
        "We can see the svm linear model does not fit the data at all. The cost decrease is marginal. This model is unrelevant in this case.\n",
        "\n",
        "Instead, we shoud represent each sample by its euclidian norm (distance from the origin). Plus, another way to show the data is by calculating a polynomial transformation and ploting the division between the classes."
      ],
      "metadata": {
        "id": "UybaM-xAj-4K"
      }
    },
    {
      "cell_type": "code",
      "source": [
        "def plotData3D(W, X, Y):\n",
        "  \"\"\"\n",
        "  Plot the data alongside the decision boundary\n",
        "\n",
        "  Parameters:\n",
        "  -----------\n",
        "  `W` : Trained weights [d x 1]\n",
        "  `X` : Training and testing inputs [d x N]\n",
        "  `Y` : Training and testing Labels [1 x N]\n",
        "    \n",
        "  \"\"\"\n",
        "\n",
        "  x_min = np.min(X[0, :]) - 0.5\n",
        "  x_max = np.max(X[0, :]) + 0.5\n",
        "  y_min = np.min(X[1, :]) - 0.5\n",
        "  y_max = np.max(X[1, :]) + 0.5\n",
        "  z_min = np.min(X[2, :]) - 0.5\n",
        "  z_max = np.max(X[2, :]) + 0.5\n",
        "  \n",
        "  fig = plt.figure()\n",
        "  ax  = plt.axes(projection='3d')\n",
        "  ax.plot3D(X[0, :], X[1, :], X[2, :], 'o')\n",
        "\n",
        "  #x = np.arange(x_min, x_max, 0.01)\n",
        "  #y = np.arange(y_min, y_max, 0.01)\n",
        "\n",
        "  #x, y = np.meshgrid(x, y)\n",
        "\n",
        "  #if W[3] != 0:\n",
        "    #z = -x*W[1]/W[3] - y*W[2]/W[3] - W[0]/W[3]\n",
        "    #ax.plot_surface(x, y, z)\n",
        "  #else:\n",
        "    #ax.vlines(0, y_min, y_max)\n",
        "\n",
        "  #ax.set_zlim(z_min,z_max)\n",
        "  #ax.set_xlim(x_min, x_max)\n",
        "  #ax.set_ylim(y_min, y_max)\n",
        "  \n",
        "  plt.show()\n",
        "\n",
        "  return"
      ],
      "metadata": {
        "id": "3afzR36JD3Z6"
      },
      "execution_count": null,
      "outputs": []
    },
    {
      "cell_type": "code",
      "source": [
        "xx = x[0,:]**2\n",
        "yy = x[1,:]**2 \n",
        "zz = math.sqrt(2)*x[0,:]*x[1,:] \n",
        "\n",
        "XX = np.array([xx, yy, zz])\n",
        "XX = np.concatenate((np.ones(XX.shape[1])[:,np.newaxis], XX.T), axis=1).T\n",
        "YY = np.ravel(y.transpose())\n",
        "\n",
        "lr = 1\n",
        "lam = 0.001\n",
        "model = SVC(kernel='poly')\n",
        "W, Js = svmTrain(XX, YY, lam, lr, W = np.array([0, 0, 0, 0])[:np.newaxis])\n",
        "plotConvCurve(Js)\n",
        "plotData3D(W, XX, YY)\n",
        "J, A, P, R = svmTest(W, XX, YY, lam)\n",
        "print('J:', J, 'A:', A, 'P:', P, 'R:', R)"
      ],
      "metadata": {
        "colab": {
          "base_uri": "https://localhost:8080/",
          "height": 527
        },
        "id": "_6DHdYGlKLsZ",
        "outputId": "de1bc5eb-bcb0-4e6f-b8c9-f1b94a8e4d84"
      },
      "execution_count": null,
      "outputs": [
        {
          "output_type": "display_data",
          "data": {
            "text/plain": [
              "<Figure size 432x288 with 1 Axes>"
            ],
            "image/png": "[encoded data removed]"
          },
          "metadata": {
            "needs_background": "light"
          }
        },
        {
          "output_type": "display_data",
          "data": {
            "text/plain": [
              "<Figure size 432x288 with 1 Axes>"
            ],
            "image/png": "[encoded data removed]"
          },
          "metadata": {
            "needs_background": "light"
          }
        },
        {
          "output_type": "stream",
          "name": "stdout",
          "text": [
            "J: 0.38585976599956884 A: 0.955 P: 0.9174311926605505 R: 1.0\n"
          ]
        }
      ]
    },
    {
      "cell_type": "markdown",
      "source": [
        "As we can see, the polynomial classification gets good results and it separates correctly the two classes."
      ],
      "metadata": {
        "id": "U38oYGXTamjW"
      }
    },
    {
      "cell_type": "markdown",
      "source": [
        "# Part 3: Breast Cancer Classification\n",
        "As discussed, kernel methods allow us to apply Machine Learning methods to different domains of research. Here, we will discuss such a case in the medical domain, specifically in the problem of Breast Cancer classification.\n",
        "\n",
        "## Question 4: \n",
        "Train the SVM on the dataset defined below, using the linear, polynomial and a kernel of your choice. Comment the results."
      ],
      "metadata": {
        "id": "S-AOlxeTxbBT"
      }
    },
    {
      "cell_type": "code",
      "source": [
        "df = pd.read_csv('./data/tumor.csv')  # import the CSV file\n",
        "df = df.drop('Sample code number', axis=1)  # Drop the first column\n",
        "\n",
        "# Separating X, Y\n",
        "X = df.drop(['Class'], axis=1)\n",
        "Y = df['Class']\n",
        "\n",
        "# Scaling the Data\n",
        "std = StandardScaler()\n",
        "X = std.fit_transform(X)\n",
        "Y = np.maximum(Y.to_numpy().reshape((-1, 1)) -3, 0)\n",
        "\n",
        "# Train-Test Split (80-20)\n",
        "xTrain, xTest, yTrain, yTest = train_test_split(X, Y, test_size=0.20, random_state=0)\n",
        "\n",
        "# Rearange and print the data shapes\n",
        "xTrain, xTest, yTrain, yTest = xTrain.T, xTest.T, yTrain.T, yTest.T\n",
        "print(f'Training data shapes : {xTrain.shape}, {yTrain.shape}')\n",
        "print(f'Testing data shapes : {xTest.shape}, {yTest.shape}')"
      ],
      "metadata": {
        "id": "rHlaSFmG-ZIc",
        "colab": {
          "base_uri": "https://localhost:8080/"
        },
        "outputId": "a3dcdab5-0672-4f2a-b255-0ed5d3ff362c"
      },
      "execution_count": null,
      "outputs": [
        {
          "output_type": "stream",
          "name": "stdout",
          "text": [
            "Training data shapes : (9, 546), (1, 546)\n",
            "Testing data shapes : (9, 137), (1, 137)\n"
          ]
        }
      ]
    },
    {
      "cell_type": "code",
      "source": [
        "model = SVC(kernel=\"linear\")\n",
        "model.fit(xTrain.T, yTrain[0,:])\n",
        "print(\"F1 score of linear kernel:\", f1_score(yTest[0,:], model.predict(xTest.T)))\n",
        "\n",
        "model = SVC(kernel=\"poly\")\n",
        "model.fit(xTrain.T, yTrain[0,:])\n",
        "print(\"F1 score of polynomial kernel:\", f1_score(yTest[0,:], model.predict(xTest.T)))\n",
        "\n",
        "model = SVC(kernel=\"rbf\")\n",
        "model.fit(xTrain.T, yTrain[0,:])\n",
        "print(\"F1 score of rbf kernel:\", f1_score(yTest[0,:], model.predict(xTest.T)))"
      ],
      "metadata": {
        "colab": {
          "base_uri": "https://localhost:8080/"
        },
        "id": "SS8DPhzqTtfb",
        "outputId": "22142af0-22eb-423f-b7b8-0403ca1866db"
      },
      "execution_count": null,
      "outputs": [
        {
          "output_type": "stream",
          "name": "stdout",
          "text": [
            "F1 score of linear kernel: 0.9411764705882353\n",
            "F1 score of polynomial kernel: 0.9148936170212766\n",
            "F1 score of rbf kernel: 0.9423076923076924\n"
          ]
        }
      ]
    },
    {
      "cell_type": "markdown",
      "source": [
        "We can see our svm model is very relevant to predict tumors. Furthermore, the linear kernel is very efficient, which means our data is by itself virtually linearly separable, without adding a change of dimensions. Polynomial kernel is less efficient, probably because of some overfitting problem."
      ],
      "metadata": {
        "id": "RjCNL58hVhme"
      }
    },
    {
      "cell_type": "markdown",
      "source": [
        "## References:\n",
        "- Chapter 15 of the book : Understanding Machine Learning\n",
        "- SVM Kernel Trick Example : https://vitalflux.com/machine-learning-svm-kernel-trick-example/\n",
        "- SVM Course YouTube Playlist (Chapter 12) : https://www.youtube.com/playlist?list=PLLssT5z_DsK-h9vYZkQkYNWcItqhlRJLN"
      ],
      "metadata": {
        "id": "S6ZMv5dBPHoT"
      }
    },
    {
      "cell_type": "markdown",
      "source": [
        "## Aditional References:\n",
        "\n",
        "\n",
        "*   [Perceptron vs SVM: a quick comparison](https://medium.com/@subashkharel/perceptron-vs-svm-a-quick-comparison-6b5d6b5d64f#:~:text=Perceptron%20stops%20after%20it%20classifies,be%20classified%20with%20more%20confidence.)\n",
        "*   [Support vector machine](https://en.wikipedia.org/wiki/Support_vector_machine#math_1)\n",
        "\n"
      ],
      "metadata": {
        "id": "hlgKDeO1FPyu"
      }
    }
  ],
  "metadata": {
    "colab": {
      "provenance": []
    },
    "kernelspec": {
      "display_name": "Python 3 (ipykernel)",
      "language": "python",
      "name": "python3"
    },
    "language_info": {
      "codemirror_mode": {
        "name": "ipython",
        "version": 3
      },
      "file_extension": ".py",
      "mimetype": "text/x-python",
      "name": "python",
      "nbconvert_exporter": "python",
      "pygments_lexer": "ipython3",
      "version": "3.9.12"
    },
    "vscode": {
      "interpreter": {
        "hash": "ee82927b8361fe0e0ec66319841eca50b755b834055a47ec820f8a8c32106018"
      }
    }
  },
  "nbformat": 4,
  "nbformat_minor": 0
}