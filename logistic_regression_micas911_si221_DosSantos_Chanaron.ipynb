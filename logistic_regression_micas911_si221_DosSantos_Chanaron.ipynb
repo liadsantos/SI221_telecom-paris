{
  "cells": [
    {
      "cell_type": "markdown",
      "metadata": {
        "id": "hXc1XtEm7U-J"
      },
      "source": [
        "# Homework 6: Logistic Regression\n",
        "\n",
        "In this homework we will implement the Logistic Regression algorithm using Gradient Descent.\n",
        "\n",
        "We use as reference the chapter 9 and 24 of Understanding Machine Learning.\n",
        "\n",
        "Copy this notebook and insert the corresponding names on the file.\n",
        "\n",
        "\n",
        "## Important!\n",
        "\n",
        "\n",
        "1.   **You shall send this TP by mail with the subject: [HW6][Student_1][MICAS][Student_2][SI221]** (Adapt the subject accordingly to your specific situation).\n",
        "\n",
        "2.   **This exercise can be done in pairs. Please, leave all of your answers on this notebook, which will be the only file you will have to deliver.**\n",
        "\n",
        "3. **You have one week to deliver the homework.**\n",
        "\n",
        "4. **Comment your code. If you leave an algorithm unfinished or you believe it may have a problem handling specific cases, we will consider this for evaluation.**\n",
        "\n",
        "5. **We strongly encourage discussion between students as long as you own your solution. Copy pasting the solution from internet/colleagues will not be tolerated.**\n",
        "\n",
        " \n",
        "**Send your solutions to both mails:**\n",
        "\n",
        "<code>breno.skuk@gmail.com<br>\n",
        "ibrahim.djemai@telecom-sudparis.eu</code>\n",
        "\n",
        "(Feel free to send an email if you have any question concerning the TP)\n",
        "\n",
        "**Good luck!**\n"
      ]
    },
    {
      "cell_type": "markdown",
      "source": [
        "Lais Isabelle Alves dos Santos\n",
        "\n",
        "Louis Chanaron"
      ],
      "metadata": {
        "id": "SIFyjpMZQDc9"
      }
    },
    {
      "cell_type": "markdown",
      "source": [
        "# Part 1: From theory to algorithm\n",
        "## Logistic Regression in a nutshell\n",
        "\n",
        "Here we will take a look into the Logistic Regression algorithmic paradigm used for binary classification. \n",
        "\n",
        "Moreover, the hypothesis class does not output the label directly, but it's maximum a posteriori likelihood (a value in the interval $[0,1]$). \n",
        "\n",
        "This method can be \"seen\" either by the machine learning point of view as well as from the statistcal point of view.\n",
        "\n",
        "<img src=\"https://studymachinelearning.com/wp-content/uploads/2019/09/sigmoid_graph.png\" width=400/>\n",
        "\n",
        "**Figure 1** : Sigmoid Function. \n",
        "\n",
        "Let us define the logistic function $\\sigma: \\mathbb{R} → [0,1]$ (also known as sigmoid, see **Figure 1**) as follows:\n",
        "\n",
        "$$\\sigma(x) = \\frac{e^{x}}{1+e^{x}} = \\frac{1}{1+e^{-x}} = 1 - \\sigma(-x) \\tag{1}$$\n",
        "\n",
        "Given a set of input data from $X \\in \\mathbb{R}^d$, and their corresponding labels from $Y \\in \\{0, 1\\}$, the goal of Logistic Regression is to map the input $X$ via a Hypothesis function $\\mathcal{h}_W$ with parameters $W$ to $Y$. \n",
        "\n",
        "The hypothesis class $\\mathcal{H}_W$ is defined as the set of functions parametrized by $W$: \n",
        "\n",
        "$$\\mathcal{H}_W = \\{x \\mapsto \\sigma(\\langle W, x \\rangle ): W \\in \\mathbb{R}^d \\}$$\n",
        "\n",
        "such that for $\\mathcal{h}_W \\in \\mathcal{H}_W$ we write\n",
        "\n",
        "$$ \\mathcal{h}_W:X \\in \\mathbb{R}^d → [0, 1]$$\n",
        "\n",
        "$$\\mathcal{h}_W(x) = \\sigma(\\langle W \\cdot X \\rangle)$$\n",
        "\n",
        "Where $\\sigma:x \\in \\mathbb{R} → [0, 1]$ is the **sigmoid** or the **logistic** function, as previously defined in $(1)$.\n",
        "\n",
        "\n",
        "An interesting property of the $\\sigma$ function that partly motivates its use is given by it's derivative, as expressed below:\n",
        "\n",
        "\\begin{align} \\tag{2}\n",
        "\\sigma'(x) &= \\frac{d}{dx} \\frac{1}{1+e^{-x}} \\\\\n",
        "&= \\frac{-1}{(1+e^{-x})^2} (-e^{-x}) \\\\ \n",
        "&= \\frac{1}{1+e^{-x}} \\cdot \\big(\\frac{e^{-x}}{1+e^{-x}}\\big)\\\\\n",
        "&= \\sigma(x) \\cdot \\sigma(-x)\\\\\n",
        "&= \\sigma(x) (1-\\sigma(x)) \n",
        "\\end{align}\n",
        "\n",
        "## Prediction\n",
        "\n",
        "Notice that the hypothesis class $\\mathcal{H}_W$ does not contain functions that map the input to $\\{0,1\\}$, but instead to the interval $[0,1]$. \n",
        "\n",
        "We will show in the following section the probabilistic interpretation of this hypothesis class, and motivate the following labeling rule:\n",
        "\n",
        "$$\n",
        "    y_{pred}= \n",
        "\\begin{cases} \\tag{3}\n",
        "    1 & \\text{if } \\mathcal{h}_W(x) \\geq 0.5\\\\\n",
        "    0,              & \\text{otherwise}\n",
        "\\end{cases}\n",
        "$$\n",
        "\n",
        "Note in view of Figure 1 that when $\\langle W \\cdot X \\rangle$ is very large then $\\sigma(\\langle W \\cdot X \\rangle)$ is close to 1, whereas if\n",
        "$\\langle W \\cdot X \\rangle$ is very small then $\\sigma(\\langle W \\cdot X \\rangle)$ is close to 0. \n",
        "\n",
        "Remember that $\\langle W \\cdot X \\rangle$ is was precisely the distance of $x$ to a hyperplane corresponding to $W$.\n",
        "There is a resemblance on how we performed the prediction on the perceptron and SVM, where we based our analisys by studying  $sign(\\langle W \\cdot X \\rangle)$.  \n",
        "\n",
        "However, our halfpsace prediction was being performed with $\\{-1,1\\}$ labels whereas now we are working with $\\{0,1\\}$\n",
        "\n",
        "## Probabilistic Model\n",
        "Let $S^N = (x_i,y_i)_{i\\in[N]} \\overset{\\mathrm{iid}}{\\sim} (X,Y)^N$ be a training set with $N$ samples. \n",
        "\n",
        "If we assume that:\n",
        "$$ p(y_i = 1 | x_i, W) = \\mathcal{h}_W(x_i) $$\n",
        "$$ p(y_i = 0 | x_i, W) = 1 - \\mathcal{h}_W(x_i) $$\n",
        "\n",
        "We can write the equations above compactly as:\n",
        "\n",
        "$$ p(y_i | x_i, W) = (\\mathcal{h}_W(x_i))^{y_i} \\cdot (1 - \\mathcal{h}_W(x_i))^{1-y_i} \\tag{4}$$\n",
        "\n",
        "We can write the likelihood of the parameters as product of the likelihood for each point as follow (where we make use of the $\\mathrm{iid}$ sampling):\n",
        "\n",
        "\\begin{align}\n",
        "L(W) &= p(Y^N | X^N, W)\\\\\n",
        "&= \\prod^N_{i=1} p(y_i | x_i, W) \\\\\n",
        "&= \\prod^N_{i=1} (\\mathcal{h}_W(x_i))^{y_i} \\cdot (1 - \\mathcal{h}_W(x_i))^{1-y_i} \\\\ \\tag{5}\n",
        "\\end{align}\n",
        "\n",
        "This is the well established statistical problem of finding a Maximum Likelihood Estimator, and we write the optimization as:\n",
        "\n",
        "$$\n",
        "W = arg \\max_{W' \\in \\mathbb{R^d}} L(W') \\tag{6}\n",
        "$$\n",
        "\n",
        "\n",
        "We can conviniently write an equivalent optimization problem by maximizing the log likelihood. This is possible because $log$ is a monotonically increasing function:\n",
        "\n",
        "\\begin{align} \\tag{7}\n",
        "\\mathcal{L}(W) &= \\log L(W) \\\\\n",
        "&= \\sum_{i=1}^{N} y_i \\log(\\mathcal{h}_W(x_i)) + (1-y_i) \\log(1-\\mathcal{h}_W(x_i))\n",
        "\\end{align}\n",
        "\n",
        "The parameter $W$ is then given by:\n",
        "\n",
        "$$\n",
        "W = arg \\max_{W' \\in \\mathbb{R^d}} \\mathcal{L}(W')  \\tag{8}\n",
        "$$\n",
        "\n",
        "To solve the maximization problem, we use **gradient ascent**. Written in vectorial notation, our updates will therefore be given by $W ← W + lr \\cdot \\nabla_W \\mathcal{L}(W)$. (Note the positive rather than negative sign in the update formula, remember that we’re maximizing, rather than minimizing a function now)\n",
        "\n",
        "With the change of representation of $x_i$ to facilitate the notation:\n",
        "$W = [w_1, w_2, ..., w_j, ..., w_d], \\quad x_i = [x_1^{(i)}, x_2^{(i)}, ..., x_j^{(i)}, ..., x_d^{(i)}]$\n",
        "\n",
        "For any given sample, the gradient of the logistic loss function with respect to $W$ is given by :\n",
        "$$\\nabla \\mathcal{L}(W) = \\left[\\frac{\\partial \\mathcal{L}(W)}{\\partial w_1}, \\cdots, \\frac{\\partial \\mathcal{L}(W)}{\\partial w_j}, \\cdots, \\frac{\\partial \\mathcal{L}(W)}{\\partial w_d}\\right] $$\n",
        "\n",
        "The derivative of the likelihood with respect to a single coordinate can be easily obtained by using $(2)$ as:\n",
        "\n",
        "$$ \\frac{\\partial}{\\partial w_j} \\mathcal{L}(W) = \\frac{1}{N} \\sum^N_{i=1}\\left(y^{(i)}-\\mathcal{h}_W(x^{(i)})\\right) x_j^{(i)}$$\n",
        "\n",
        "For each coordinate we have:\n",
        "\n",
        "$$\\nabla \\mathcal{L}(W) = \\frac{1}{N} \\sum^N_{i=1} \\left(y^{(i)}-h_W(x^{(i)})\\right) \\cdot\\left[x_1^{(i)}, ..., x_j^{(i)}, ..., x_d^{(i)}\\right] = \\frac{1}{N} \\sum^N_{i=1} \\left(y^{(i)}-h_W(x^{(i)})\\right) x^{(i)} $$\n",
        "\n",
        "Finally, the gradient ascent step is given by:\n",
        "\n",
        "$$ W^{(t+1)} ← W^{(t)} + lr \\cdot \\frac{1}{N} \\sum^N_{i=1} \\left(y_i-h_W(x_i)\\right) x_i$$"
      ],
      "metadata": {
        "id": "i8qDXbUobLrr"
      }
    },
    {
      "cell_type": "markdown",
      "source": [
        "## Question 1: \n",
        "(a) In the deduction above we atack the problem of learning through data from the statistical point of view. \n",
        "\n",
        "Usually, in machile learning we would choose a loss function $l_{logistic}$, write the Empirical Risk as the average value of the loss, and finally verify that for our $\\mathcal{H}_W$,  $\\mathcal{h}_W \\in ERM_{h_W' \\in \\mathcal{H}_W} (\\mathcal{L}(\\mathcal{h}'_W))$ is minimizing the true Risk. \n",
        "\n",
        "Can you spot the analogous to the loss function in $(7)$? Can this problem be made equivalent to a binary classification into $\\{-1,1\\}$?\n",
        "\n",
        "(b) Discuss the similarities between linear regression and logistic regression. What types of problems are the most appropriate for them? Are they equivalent in some way?"
      ],
      "metadata": {
        "id": "9ugXZdcFnnUt"
      }
    },
    {
      "cell_type": "markdown",
      "source": [
        "**ANSWER (A):** \\\\\n",
        "The Empirical risk can be represented as: \n",
        "\n",
        "$$R_{emp} = \\frac{1}{N} \\sum^N_{i=1}\\log L(W)$$\n",
        "\n",
        "It is possible to prove that the hypothesis class being part of the $ERM$ is the minimization of the true risk, because the minimization of the empirical risk takes into account the training set. Instead, the true risk takes into account the test set - how the algorithm work in practice - which leaves to the conclusion that they belong to each other, since they are part of the same distribution. \n",
        "\n",
        "The loss function for the logistic regression is given by: \n",
        "\\begin{align}\n",
        "\\mathcal{L}(W) &= \\sum_{i=1}^{N} y_i \\log(\\mathcal{h}_W(x_i)) + (1-y_i) \\log(1-\\mathcal{h}_W(x_i))\n",
        "\\end{align}\n",
        "\n",
        "Because in that case, the goal was to maximize the likelihood function. But, it is possible to find an analogous loss function by thinking in minimizing the error of the predictions. In this case, the equation could be given by: \n",
        "\\begin{align}\n",
        "\\mathcal{L}(W) &= -\\frac{1}{N} \\sum_{i=1}^{N} y_i \\log(\\mathcal{h}_W(x_i)) + (1-y_i) \\log(1-\\mathcal{h}_W(x_i))\n",
        "\\end{align}\n",
        "\n",
        "It is possible to model the logistic regression between $\\{-1, 1\\}$, but considering a similar function of the sigmoid function, the Tanh. She is more stretched, but she has a similar behavior. "
      ],
      "metadata": {
        "id": "8oo_1bursrZU"
      }
    },
    {
      "cell_type": "markdown",
      "source": [
        "**ANSWER (B):** \\\\\n",
        "The linear regression, as seen in Perceptron and in the Support Vector Machine (SVM), is a good classifier, but it tough has its limitations. For instance, if a dataset has a too distributed data, somehow we may have a misclassification, i.e. some data can be on the other side of the calculated hyperplane.\n",
        "\n",
        "However, it is possible to see similarities between the linear regression and the logistic regression. One point that is valid to be discussed is the fact that both methods use the distance of $x$ from the hyperplane $W$ to calculate the best approximation. In the case of linear regression, the best hyperplane, and in the caso of logistic regression, the maximum likelihood function. \n",
        "\n",
        "The best problems for logistic regression are those who envolve \"Classification\", to predict whether a variable is true or false, 0 or 1. One example of use would be the classification of the chest x-ray images to predict the state of a patient, telling if he/she is suffering from pneumonia or not, using the \"Chest X-Ray Images (Pneumonia)\" Dataset.\n",
        "\n",
        "In the case of linear regression, the outcome is mostly a continuous data, for instance, the prediction of the final grade of students given the four last years grades. \n",
        "\n",
        "The equivalence between them is that both are types of Supervised Learning in the Machine Learning area. Namely, they learn from a labeled dataset and then can predict and classify test data correctly. "
      ],
      "metadata": {
        "id": "vbX0MIMUZKw_"
      }
    },
    {
      "cell_type": "markdown",
      "source": [
        "## Question 2:\n",
        "Fill out the code snippets below to implement the Logistic Regression and test its results"
      ],
      "metadata": {
        "id": "yRiB2TPL8Qgr"
      }
    },
    {
      "cell_type": "code",
      "execution_count": null,
      "metadata": {
        "id": "OjmUkKsJ7U-Q"
      },
      "outputs": [],
      "source": [
        "import numpy as np\n",
        "import numpy.random as rd\n",
        "import pandas as pd\n",
        "import matplotlib.pyplot as plt\n",
        "import math\n",
        "from sklearn.preprocessing import StandardScaler\n",
        "from sklearn.model_selection import train_test_split\n",
        "from sklearn.metrics import f1_score\n",
        "from sklearn.linear_model import LinearRegression as OLS\n",
        "\n",
        "from urllib import request\n",
        "import pandas as pd\n",
        "from seaborn import heatmap"
      ]
    },
    {
      "cell_type": "markdown",
      "source": [
        "### Compute the logistic (also known as sigmoid) function"
      ],
      "metadata": {
        "id": "I9Mx4jF7-s8x"
      }
    },
    {
      "cell_type": "code",
      "source": [
        "def sigmoid(u):\n",
        "  \"\"\"\n",
        "  Compute the sigmoid \n",
        "\n",
        "  Parameters:\n",
        "  -----------\n",
        "  `u` : real number\n",
        "\n",
        "\n",
        "  Returns:\n",
        "  --------\n",
        "  `sigma` : Computed sigma(u)\n",
        "  \n",
        "  \"\"\"\n",
        "  res = 1/(1+np.exp(-u))\n",
        "  \n",
        "  return res"
      ],
      "metadata": {
        "id": "soQqC6-g-3e4"
      },
      "execution_count": null,
      "outputs": []
    },
    {
      "cell_type": "markdown",
      "metadata": {
        "id": "KWsC8TAU7U-U"
      },
      "source": [
        "### Compute the cost and its gradient using previously defined equations"
      ]
    },
    {
      "cell_type": "code",
      "execution_count": null,
      "metadata": {
        "id": "AHb1VfEy7U-V"
      },
      "outputs": [],
      "source": [
        "def getCost(W, X, Y):\n",
        "  \"\"\"\n",
        "  Compute the cost\n",
        "\n",
        "  Parameters:\n",
        "  -----------\n",
        "  `W` : SVM Weights [d x 1]\n",
        "  `X` : Input data [d x N]\n",
        "  `Y` : Labels [1 x N]\n",
        "\n",
        "  Returns:\n",
        "  --------\n",
        "  `J` : Computed cost\n",
        "  \n",
        "  \"\"\"\n",
        "  \n",
        "  res = np.mean(-Y*np.log(sigmoid(W@X))-(1-Y)*np.log(1-sigmoid(W@X)))\n",
        "  return res\n",
        "\n",
        "def getGradients(W, X, Y):\n",
        "  \"\"\"\n",
        "  Compute the cost gradients\n",
        "\n",
        "  Parameters:\n",
        "  -----------\n",
        "  `W` : SVM Weights [d x 1]\n",
        "  `X` : Input data [d x N]\n",
        "  `Y` : Labels [1 x N]\n",
        "  \n",
        "  Returns:\n",
        "  --------\n",
        "  `dJ` : Computed gradients\n",
        "  \n",
        "  \"\"\"\n",
        "  return np.mean((Y - sigmoid(W@X))*X, axis=1)"
      ]
    },
    {
      "cell_type": "markdown",
      "metadata": {
        "id": "evd3wtZC7U-Y"
      },
      "source": [
        "### Perform a Gradient Descent Step"
      ]
    },
    {
      "cell_type": "code",
      "execution_count": null,
      "metadata": {
        "id": "VSYZT8Md7U-Z"
      },
      "outputs": [],
      "source": [
        "def gradDescent(W, X, Y, lr):\n",
        "  \"\"\" \n",
        "  Update the weights with gradient descent \n",
        "  \n",
        "  Parameters:\n",
        "  -----------\n",
        "  `W` : SVM Weights [d x 1]\n",
        "  `X` : Input data [d x N]\n",
        "  `Y` : Labels [1 x N]\n",
        "  `lr` : Learning Rate\n",
        "\n",
        "  Returns:\n",
        "  --------\n",
        "  `W` : Updated weights [d x 1]\n",
        "  \n",
        "  \"\"\"\n",
        "  W = W + lr*getGradients(W, X, Y)\n",
        "  \n",
        "  return W"
      ]
    },
    {
      "cell_type": "markdown",
      "metadata": {
        "id": "QbjWqUFd7U-e"
      },
      "source": [
        "### Logistic Regression functions for training and testing"
      ]
    },
    {
      "cell_type": "code",
      "execution_count": null,
      "metadata": {
        "id": "7cmHMUM97U-f"
      },
      "outputs": [],
      "source": [
        "def logRegTrain(X, Y, lr=0.1, maxEpochs=25, minCostDiff=1e-4, W = np.array([0, 0, 0])[:np.newaxis]):\n",
        "  \"\"\" \n",
        "  Train the Logistic Regression Model\n",
        "  \n",
        "  Parameters:\n",
        "  -----------\n",
        "  `X` : Training inputs [d x N]\n",
        "  `Y` : Training Labels [1 x N]\n",
        "  `lr` : Learning Rate\n",
        "  `maxEpochs` : Maximum number of epochs before stopping the training\n",
        "  `minCostDiff` : Minimum cost difference\n",
        "\n",
        "  Returns:\n",
        "  --------\n",
        "  `W` : Trained weights [d x 1]\n",
        "  \n",
        "  \"\"\"\n",
        "  Js = []\n",
        "  \n",
        "  # Randomly initialze the weights\n",
        "  eps = minCostDiff\n",
        "  k = 0\n",
        "  m = len(Y)\n",
        "  \n",
        "  converged = False # Boolean variable for convergence critereon\n",
        "\n",
        "  while k < maxEpochs:\n",
        "    # Update the weights\n",
        "    W = gradDescent(W, X, Y, lr)\n",
        "    # Check if the convergence critereon is met\n",
        "    J = getCost(W, X, Y)\n",
        "    k+=1\n",
        "\n",
        "    Js += [J]\n",
        "\n",
        "  return W, Js"
      ]
    },
    {
      "cell_type": "code",
      "execution_count": null,
      "metadata": {
        "id": "Pc31dW5b7U-g"
      },
      "outputs": [],
      "source": [
        "def logResTest(W, X, Y):\n",
        "  \"\"\" \n",
        "  Test the SVM Model\n",
        "  \n",
        "  Parameters:\n",
        "  -----------\n",
        "  `W` : Trained weights [d x 1]\n",
        "  `X` : Testing inputs [d x N]\n",
        "  `Y` : Testing Labels [1 x N]\n",
        "\n",
        "  Returns:\n",
        "  --------\n",
        "  `l01` :L_0_1 Loss\n",
        "  `P` : Precision\n",
        "  `R` : Recall \n",
        "  \n",
        "  \"\"\"\n",
        "  J = getCost(W, X, Y)\n",
        "\n",
        "  yPred = np.clip(sigmoid(W@X)>0.5, 0, None)\n",
        "  A = np.mean(np.abs(Y - yPred) < 10**-3) # how many times the ML model was correct overall\n",
        "  P = np.sum(yPred[Y==1] == 1)/np.sum(yPred == 1) # how good is the model in predicting some category\n",
        "  R = np.sum(yPred[Y==1] == 1)/np.sum(Y == 1) # how many times the model detected a specific category\n",
        "\n",
        "  return J, A, P, R"
      ]
    },
    {
      "cell_type": "markdown",
      "metadata": {
        "id": "D6GWISoJ7U-h"
      },
      "source": [
        "### Plot the data and the results\n",
        "Functions for :\n",
        "\n",
        "- Getting the decision boundry from the weights and plotting it with the data.\n",
        "\n",
        "- Cost function evolution."
      ]
    },
    {
      "cell_type": "code",
      "execution_count": null,
      "metadata": {
        "id": "1khhhgkW7U-i"
      },
      "outputs": [],
      "source": [
        "def plotData(W, X, Y):\n",
        "  \"\"\"\n",
        "  Plot the data alongside the decision boundary\n",
        "\n",
        "  Parameters:\n",
        "  -----------\n",
        "  `W` : Trained weights [d x 1]\n",
        "  `X` : Training and testing inputs [d x N]\n",
        "  `Y` : Training and testing Labels [1 x N]\n",
        "    \n",
        "  \"\"\"\n",
        "\n",
        "  X = X[1:3,:]\n",
        "\n",
        "  x_min = np.min(X[0, :]) - 0.5\n",
        "  x_max = np.max(X[0, :]) + 0.5\n",
        "  y_min = np.min(X[1, :]) - 0.5\n",
        "  y_max = np.max(X[1, :]) + 0.5\n",
        "\n",
        "  X = X.T\n",
        "\n",
        "  X0 = X[Y>0,:]\n",
        "  X1 = X[Y == 0,:]\n",
        "\n",
        "  plt.scatter(X1[:, 0], X1[:, 1], c='b')\n",
        "  plt.scatter(X0[:, 0], X0[:, 1], c='r')\n",
        "\n",
        "  x = np.array([x_min, x_max])\n",
        "\n",
        "  if W[2] != 0:\n",
        "    y = -x*W[1]/W[2]-W[0]/W[2]\n",
        "    \n",
        "    plt.plot(x, y, 'k-')\n",
        "  else:\n",
        "    plt.vlines(0, y_min, y_max)\n",
        "  plt.xlim((x_min, x_max))\n",
        "  plt.ylim((y_min, y_max))\n",
        "  plt.show()\n",
        "\n",
        "  return\n",
        "\n",
        "def plotConvCurve(Js):\n",
        "  \"\"\"\n",
        "  Plot the cost function evolution\n",
        "\n",
        "  Parameters:\n",
        "  -----------\n",
        "  `Js` : Calculated costs at each epoch\n",
        "  \"\"\"\n",
        "  N = [k for k in range(len(Js))]\n",
        "  plt.plot(N, Js)\n",
        "  plt.xlabel(\"Epoch\")\n",
        "  plt.ylabel(\"J\")\n",
        "  plt.show()\n",
        "  return "
      ]
    },
    {
      "cell_type": "markdown",
      "source": [
        "### Synthetic Data generation :\n",
        "Consider a data set $\\{x(n), d(n)\\}^{200}_{n=1}$ consisting of $200$ points $x(n) = (x_1(n), x_2(n))$ and\n",
        "their corresponding labels $d(n)$, such that the first $100$ points have label $d(n) = 1$ and\n",
        "are generated according to a Gaussian distribution $x(n) ∼ \\mathcal{N} ([1, 0] , \\sigma^2\n",
        "I)$, and such that\n",
        "the other $100$ points have label $d(n) = 0$ and are generated according to a Gaussian\n",
        "distribution $x(n) ∼ \\mathcal{N} ([0, -1] , \\sigma^2\n",
        "I)$."
      ],
      "metadata": {
        "id": "a-_R8EbJzPy9"
      }
    },
    {
      "cell_type": "code",
      "execution_count": null,
      "metadata": {
        "id": "RtEZa13oapIz"
      },
      "outputs": [],
      "source": [
        "def genData(meanPos, meanNeg, sigma, N):\n",
        "  \"\"\"\n",
        "  Generate synthetic data following the gaussian distribution\n",
        "\n",
        "  Parameters:\n",
        "  -----------\n",
        "  `meanPos` : Mean for the Data with label d(n) = 1 [1 x 2]\n",
        "  `meanNeg` : Mean for the Data with label d(n) = 0 [1 x 2]\n",
        "  `sigmas` :  Standard deviation\n",
        "  \n",
        "  Returns:\n",
        "  --------\n",
        "  `X` : Input Data\n",
        "  `Y` : Labels\n",
        "    \n",
        "  \"\"\"\n",
        "  X1 = rd.multivariate_normal(meanPos, sigma*np.eye(2), size=int(np.ceil(N//2)))\n",
        "  X0 = rd.multivariate_normal(meanNeg, sigma*np.eye(2), size=(N//2))\n",
        "  Y1 = np.ones(len(X1))\n",
        "  Y0 = np.zeros(len(X0))\n",
        "\n",
        "  X = np.concatenate((X0, X1))\n",
        "  Y = np.concatenate((Y0, Y1))[:, np.newaxis]\n",
        "  Z = np.concatenate((X, Y), axis=1)\n",
        "  rd.shuffle(Z)\n",
        "  X = Z[:, 0:2].T\n",
        "  X = np.concatenate((np.ones(len(X[0]))[np.newaxis], X), axis=0) # X is in homogeneous coordinates\n",
        "  Y = Z[:, 2]\n",
        "  return X, Y"
      ]
    },
    {
      "cell_type": "markdown",
      "source": [
        "### Putting everything together\n",
        "- Plot the data\n",
        "\n",
        "- Train the Logistic Regression Model using variance $\\sigma^2 = 0.25$ and $\\sigma^2 = 0.05$\n",
        "\n",
        "- Plot the convergence curve\n",
        "\n",
        "- Plot the data with the decision boundary\n",
        "\n",
        "- Test the Logistic Regression Model and show the accuracy, precision and recall figures\n",
        "\n",
        "- Compare the results with the previsouly implemented Perceptron and SVM. Comment the results."
      ],
      "metadata": {
        "id": "a9jeY2naz2RH"
      }
    },
    {
      "cell_type": "code",
      "source": [
        "def main(lr):\n",
        "  \"\"\" \n",
        "  Main function for training and testing the SVM \n",
        "  \n",
        "  Parameters:\n",
        "  -----------\n",
        "  `lr` : Learning Rate\n",
        "  \n",
        "  \"\"\"\n",
        "  sig2 = 0.25\n",
        "  W = np.array([0, 0, 0], dtype=\"float64\")[:, np.newaxis]\n",
        "  X, Y = genData([1, 0], [0, -1], sig2, 100)\n",
        "  Xtest, Ytest = genData([1, 0], [0, -1], sig2, 100)\n",
        "\n",
        "  W, Js = logRegTrain(X, Y, lr, maxEpochs=50)\n",
        "  J, A, P, R = logResTest(W, Xtest, Ytest)\n",
        "\n",
        "  print(\"J:\", J, \"A:\", A, \"P:\", P, \"R:\", R)\n",
        "  plotConvCurve(Js)\n",
        "  plotData(W, X, Y)\n",
        "  return"
      ],
      "metadata": {
        "id": "eLgBLSmczwd7"
      },
      "execution_count": null,
      "outputs": []
    },
    {
      "cell_type": "code",
      "source": [
        "# Your Hyperparameters\n",
        "lr = 1\n",
        "main(lr)"
      ],
      "metadata": {
        "id": "sTtCRcPg14Rl",
        "colab": {
          "base_uri": "https://localhost:8080/",
          "height": 572
        },
        "outputId": "ccbef421-a762-4d71-c445-8df72b95956e"
      },
      "execution_count": null,
      "outputs": [
        {
          "output_type": "stream",
          "name": "stdout",
          "text": [
            "(100,)\n",
            "J: 0.23086713074384477 A: 0.94 P: 0.9583333333333334 R: 0.92\n"
          ]
        },
        {
          "output_type": "display_data",
          "data": {
            "text/plain": [
              "<Figure size 432x288 with 1 Axes>"
            ],
            "image/png": "[encoded data removed]"
          },
          "metadata": {}
        },
        {
          "output_type": "display_data",
          "data": {
            "text/plain": [
              "<Figure size 432x288 with 1 Axes>"
            ],
            "image/png": "[encoded data removed]"
          },
          "metadata": {}
        }
      ]
    },
    {
      "cell_type": "markdown",
      "source": [
        "#### Comparing the results with Perceptron and SVM: \n",
        "\n",
        "As it is possible to see in the image above, the logistic regression is a good method to classify the data. Comparing with perceptron and svm, the separation of the data is very close, but the logistic regression take into account the probability of some data be in one side or another, instead of using deterministic conclusions."
      ],
      "metadata": {
        "id": "-zWw395aTUig"
      }
    },
    {
      "cell_type": "code",
      "source": [
        "#Example of 1 dimension training\n",
        "W, Js = logRegTrain(np.array([[1, 1, 1, 1], [1, 2, 0, 3]]), np.array([0, 1, 0, 1]), W=np.array([[1, 1]]), maxEpochs=500)\n",
        "\n",
        "plt.plot([k for k in range(len(Js))], Js)\n",
        "print(W)\n",
        "print(sigmoid(W@np.array([1,0])))\n",
        "plt.show()"
      ],
      "metadata": {
        "colab": {
          "base_uri": "https://localhost:8080/",
          "height": 304
        },
        "id": "RO0eqDP4A5t4",
        "outputId": "6eed142d-ebf9-42b4-9f05-d14d1c6d0a99"
      },
      "execution_count": null,
      "outputs": [
        {
          "output_type": "stream",
          "name": "stdout",
          "text": [
            "[[-3.3686168   2.48835101]]\n",
            "[0.0332908]\n"
          ]
        },
        {
          "output_type": "display_data",
          "data": {
            "text/plain": [
              "<Figure size 432x288 with 1 Axes>"
            ],
            "image/png": "[encoded data removed]"
          },
          "metadata": {}
        }
      ]
    },
    {
      "cell_type": "markdown",
      "metadata": {
        "id": "kxcW4yhYapIv"
      },
      "source": [
        "# Part 2: Dealing with categorical data\n",
        "\n",
        "A categorical variable can take on values on a finite set of fixed possible values. Samples from categorical assign each element to a particular group or nominal category on the basis of some qualitative property. \n",
        "\n",
        "## Question 3:\n",
        "\n",
        "Here you will predict the survival score of a passenger of the titanic disaster. \n",
        "\n",
        "You will choose the prediciton variables $x$ from the available options and apply logistic regression on it to regress the 'survival' variable.\n",
        "\n",
        "Here we have two types of variables: Numerical and categorical. For instance, the passenger Age can be an integer $\\in [0, 120]$. The passenger class, on the other hand, can only be represented by $3$ values. The passenger sex by $2$ values.\n",
        "\n",
        "\n",
        "Below are the functions that are downloaded and preprocess the data. \n"
      ]
    },
    {
      "cell_type": "code",
      "source": [
        "from google_drive_downloader import GoogleDriveDownloader as gdd\n",
        "import matplotlib.pyplot as plt\n",
        "import numpy as np\n",
        "import pandas as pd\n",
        "import seaborn as sns\n",
        "sns.set_theme(style=\"whitegrid\")\n",
        "\n",
        "gdd.download_file_from_google_drive(file_id='1zilQH06ud0nzmmqLUwCnwDHdJkNICBU4',\n",
        "                                    dest_path='./titanic/data.zip',\n",
        "                                    unzip=True)\n",
        "train = pd.read_csv('titanic/train.csv')\n",
        "test = pd.read_csv('titanic/test.csv')\n",
        "\n",
        "# preprocess data\n",
        "\n",
        "train.drop(\"Cabin\",inplace=True,axis=1)\n",
        "test.drop(\"Cabin\",inplace=True,axis=1)\n",
        "\n",
        "train = train[train['Age'].notna()]\n",
        "test = test[test['Age'].notna()]\n",
        "\n",
        "train['Embarked'].fillna(train['Embarked'].mode()[0],inplace=True)\n",
        "test['Embarked'].fillna(test['Embarked'].mode()[0],inplace=True)\n",
        "\n",
        "test['Fare'].fillna(test['Fare'].mean(),inplace=True)"
      ],
      "metadata": {
        "id": "2-djHmwEO0DS"
      },
      "execution_count": null,
      "outputs": []
    },
    {
      "cell_type": "markdown",
      "source": [
        "Categorical Values:"
      ],
      "metadata": {
        "id": "aldcepA4TCvc"
      }
    },
    {
      "cell_type": "code",
      "source": [
        "print('Training data shape: ', train.shape)\n",
        "fig, (ax1, ax2, ax3) = plt.subplots(ncols=3, sharey=True)\n",
        "sns.countplot(x = 'Survived',data = train, ax = ax1)\n",
        "sns.countplot(x = 'Survived',hue = 'Sex',data = train, ax = ax2)\n",
        "sns.countplot(x = 'Survived',hue = 'Pclass',data = train, ax = ax3)\n",
        "\n",
        "plt.show()"
      ],
      "metadata": {
        "colab": {
          "base_uri": "https://localhost:8080/",
          "height": 303
        },
        "id": "CaSzJwRHPcAV",
        "outputId": "34a0bbc9-ba30-452d-c1f0-305d627f59a0"
      },
      "execution_count": null,
      "outputs": [
        {
          "output_type": "stream",
          "name": "stdout",
          "text": [
            "Training data shape:  (714, 11)\n"
          ]
        },
        {
          "output_type": "display_data",
          "data": {
            "text/plain": [
              "<Figure size 432x288 with 3 Axes>"
            ],
            "image/png": "[encoded data removed]"
          },
          "metadata": {}
        }
      ]
    },
    {
      "cell_type": "markdown",
      "source": [
        "**Up to you**\n",
        "\n",
        "Apply logistic regression on the training data to predict if a passenger survived or not given the variables of your choosing. A possible approach is to encode the categorical variables in an appropriate way such that logistic regression can be applied. .\n",
        "\n",
        "Justify your choices and validate your results using the corresponding Testing set!\n",
        "\n",
        "Please, don't \"waste\" time finetuning your model, this is not a competition. Always remember that we just want to evaluate your understanding of the problem and theory."
      ],
      "metadata": {
        "id": "2yP7t93lRsDB"
      }
    },
    {
      "cell_type": "code",
      "source": [
        "# training and testing set\n",
        "x = np.array(train['Sex'].to_numpy() == 'female', dtype='float')         # using the age to predict\n",
        "y = train['Survived'].to_numpy()\n",
        "\n",
        "x_test, x_train = x[:200, ], x[200:x.shape[0], ]\n",
        "y_test, y_train = y[:200, ], y[200:x.shape[0], ]\n",
        "\n",
        "x_train = np.array([x_train])\n",
        "x_train = np.concatenate((np.ones(len(x_train[0]))[np.newaxis], x_train), axis=0)\n",
        "x_test = np.array([x_test])\n",
        "x_test = np.concatenate((np.ones(len(x_test[0]))[np.newaxis], x_test), axis=0)\n",
        "y_test = np.array(y_test)\n",
        "y_train = np.array(y_train)\n",
        "\n",
        "lr = 0.01\n",
        "W, Js = logRegTrain(x_train, y_train, lr, maxEpochs=5,  W = np.zeros(x_train.shape[0])[:np.newaxis])\n",
        "J, A, P, R = logResTest(W, x_test, y_test)\n",
        "print(\"J:\", J, \"A:\", A, \"P:\", P, \"R:\", R)\n",
        "\n",
        "y_pred_train = np.clip(sigmoid(W@x_train)>0.5, 0, None)\n",
        "y_pred_test = np.clip(sigmoid(W@x_test)>0.5, 0, None)"
      ],
      "metadata": {
        "id": "EhoUBVdsRuMq",
        "colab": {
          "base_uri": "https://localhost:8080/"
        },
        "outputId": "33e01413-bac9-4e0b-df66-c5b14369f22b"
      },
      "execution_count": null,
      "outputs": [
        {
          "output_type": "stream",
          "name": "stdout",
          "text": [
            "J: 0.6922381991913181 A: 0.805 P: 0.7101449275362319 R: 0.7205882352941176\n"
          ]
        }
      ]
    },
    {
      "cell_type": "markdown",
      "source": [
        "As it is possible to see in the results above, the prediction accuracy of the method is good, 80%. The algorithm could predict the labels for the women who could be saved in the titanic ship. "
      ],
      "metadata": {
        "id": "Wrhglj4BD1Sr"
      }
    },
    {
      "cell_type": "markdown",
      "source": [
        "Print the Confusion matrix of your prediction"
      ],
      "metadata": {
        "id": "yd_jpt5aaKoE"
      }
    },
    {
      "cell_type": "code",
      "source": [
        "from sklearn.metrics import confusion_matrix\n",
        "\n",
        "# Get the confusion matrix\n",
        "cf_matrix_train = confusion_matrix(y_train, y_pred_train)\n",
        "\n",
        "# Get the confusion matrix\n",
        "cf_matrix_test = confusion_matrix(y_test, y_pred_test)\n",
        "\n",
        "# Plot with sns\n",
        "fig, (ax1, ax2) = plt.subplots(ncols=2, sharey=True)\n",
        "sns.heatmap(cf_matrix_train, annot=True, ax = ax1).set(title='Confusion matrix (train)')\n",
        "sns.heatmap(cf_matrix_test, annot=True, ax = ax2).set(title='Confusion matrix (test)')\n",
        "\n",
        "plt.show()"
      ],
      "metadata": {
        "id": "26JndbutaJtl",
        "colab": {
          "base_uri": "https://localhost:8080/",
          "height": 284
        },
        "outputId": "575a475c-2e75-4f50-fbda-cb6f941f79e0"
      },
      "execution_count": null,
      "outputs": [
        {
          "output_type": "display_data",
          "data": {
            "text/plain": [
              "<Figure size 432x288 with 4 Axes>"
            ],
            "image/png": "[encoded data removed]"
          },
          "metadata": {}
        }
      ]
    },
    {
      "cell_type": "markdown",
      "source": [
        "# Part 3: Linear Regression for Housing Prices prediction\n",
        "\n",
        "Linear regression is a common statistical tool for modeling the relationship between some “explanatory” variables and some real valued outcome.\n",
        "\n",
        "The hypothesis class of linear regression predictors is simply the set of linear\n",
        "functions:\n",
        "\n",
        "The hypothesis class $\\mathcal{H}_W$ is defined as the set of functions parametrized by $W$: \n",
        "\n",
        "$$\\mathcal{H}_W = \\{x \\mapsto \\langle W, x \\rangle : W \\in \\mathbb{R}^d \\}$$\n",
        "\n",
        "A common loss function is the squared loss:\n",
        "\n",
        "$$\n",
        "l_{mse}(h,(x, y)) = (h(x) − y)^2\n",
        "$$\n",
        "\n",
        "The corresponding empirical risk function is called the Mean Squared\n",
        "Error, namely, \n",
        "\n",
        "$$\\mathcal{L}_S(h) = \\frac{1}{m} \\sum^N_{i=1}(h(x_i) - y_i)^2\n",
        "$$\n",
        "\n",
        "There are different loss functions and different optimization techniques to obtain an empirical risk minimizer, if appropriate. \n",
        "\n",
        "Here you will use linear regression as offered by sklearn https://scikit-learn.org/stable/modules/generated/sklearn.linear_model.LinearRegression.html\n",
        "\n",
        "Data is found in the Kaggle website : https://www.kaggle.com/datasets/vedavyasv/usa-housing\n",
        "\n",
        "## Question 4: \n",
        "- Load the data\n",
        "- Remove the last column (address)\n",
        "- Plot the correlation matrix for the data, in order to see how the variables are correlated with each other. Comment the result.\n",
        "- Split the data into a training set and a test set (75/25)\n",
        "- Predict the price of houses with linear regression model.\n",
        "- Compute the mean absolute error of the test set.\n",
        "- Plot the actual price of the test data set versus its prediction. Comment the results.\n"
      ],
      "metadata": {
        "id": "S-AOlxeTxbBT"
      }
    },
    {
      "cell_type": "code",
      "source": [
        "# Download and process the data : \n",
        "import zipfile\n",
        "with zipfile.ZipFile(\"USA_Housing.zip\", 'r') as zip_ref:\n",
        "    zip_ref.extractall('data')"
      ],
      "metadata": {
        "id": "ciu_u9lQ_tb7"
      },
      "execution_count": null,
      "outputs": []
    },
    {
      "cell_type": "code",
      "source": [
        "df = pd.read_csv(\"data/USA_Housing.csv\").drop(labels='Address', axis=1)\n",
        "print(df.keys())"
      ],
      "metadata": {
        "id": "9U3j-qnC-J8H"
      },
      "execution_count": null,
      "outputs": []
    },
    {
      "cell_type": "code",
      "source": [
        "data = df.to_numpy()\n",
        "data = np.array(data, dtype='float')\n",
        "keys = df.keys()\n",
        "keys = keys"
      ],
      "metadata": {
        "id": "6oBvRI-2Rhv4"
      },
      "execution_count": null,
      "outputs": []
    },
    {
      "cell_type": "code",
      "source": [
        "heatmap(df.corr())\n",
        "plt.plot()"
      ],
      "metadata": {
        "id": "f-y_7MSbSYn-",
        "colab": {
          "base_uri": "https://localhost:8080/",
          "height": 434
        },
        "outputId": "f486b2df-a02a-4c12-9985-d70c1786843c"
      },
      "execution_count": null,
      "outputs": [
        {
          "output_type": "execute_result",
          "data": {
            "text/plain": [
              "[]"
            ]
          },
          "metadata": {},
          "execution_count": 63
        },
        {
          "output_type": "display_data",
          "data": {
            "text/plain": [
              "<Figure size 432x288 with 2 Axes>"
            ],
            "image/png": "[encoded data removed]"
          },
          "metadata": {
            "needs_background": "light"
          }
        }
      ]
    },
    {
      "cell_type": "markdown",
      "source": [
        "Price is very correlated to all the other features, which is very consistent. In addition, we can see that there is a strong correlation between the average number of rooms and bedroom."
      ],
      "metadata": {
        "id": "GYw0zdj1hfcc"
      }
    },
    {
      "cell_type": "code",
      "source": [
        "frac = 0.75\n",
        "rows = [k for k in range(len(data))]\n",
        "rd.shuffle(rows)\n",
        "X_train = data[rows[:int(frac*len(data))], :len(data[0])-1]\n",
        "y_train = data[rows[:int(frac*len(data))], len(data[0])-1]\n",
        "X_test = data[rows[:int((1-frac)*len(data))], :len(data[0])-1]\n",
        "y_test = data[rows[:int((1-frac)*len(data))], len(data[0])-1]"
      ],
      "metadata": {
        "id": "01xju5VZTt8G"
      },
      "execution_count": null,
      "outputs": []
    },
    {
      "cell_type": "code",
      "source": [
        "ols = OLS().fit(X_train, y_train)\n",
        "y_pred = ols.predict(X_test)\n",
        "acc = np.mean(np.abs(y_pred-y_test))\n",
        "print(\"Scale of prices:\", np.mean(np.abs(y_pred)))\n",
        "print(\"Absolute mean square error:\", acc)"
      ],
      "metadata": {
        "colab": {
          "base_uri": "https://localhost:8080/"
        },
        "id": "jwkP4cu4jkJ2",
        "outputId": "a7e5ea3f-ed13-4957-ce1a-da4411ab174d"
      },
      "execution_count": null,
      "outputs": [
        {
          "output_type": "stream",
          "name": "stdout",
          "text": [
            "Scale of prices: 1227010.7410576153\n",
            "Absolute mean square error: 81108.67981156248\n"
          ]
        }
      ]
    },
    {
      "cell_type": "code",
      "source": [
        "plt.scatter(y_test, y_pred)\n",
        "plt.show()"
      ],
      "metadata": {
        "colab": {
          "base_uri": "https://localhost:8080/",
          "height": 289
        },
        "id": "dNJwD8W_kqlI",
        "outputId": "05b2c9c1-5a0e-43e5-c6d7-4ddee46c0c25"
      },
      "execution_count": null,
      "outputs": [
        {
          "output_type": "display_data",
          "data": {
            "text/plain": [
              "<Figure size 432x288 with 1 Axes>"
            ],
            "image/png": "[encoded data removed]"
          },
          "metadata": {
            "needs_background": "light"
          }
        }
      ]
    },
    {
      "cell_type": "markdown",
      "source": [
        "Our model is quite efficient to predict the correct price. The mean error is small compared to the mean value of price. In addition, the error does not seem to blow up for some values."
      ],
      "metadata": {
        "id": "BzpJe1pAlSpd"
      }
    },
    {
      "cell_type": "markdown",
      "source": [
        "## References :\n",
        "- Chapter 9 of the book : Understanding Machine Learning\n",
        "\n",
        "## Other references: \n",
        "- [Linear vs Logistic Regression](https://www.kdnuggets.com/2022/03/linear-logistic-regression-succinct-explanation.html)\n",
        "\n",
        "- [Log Loss-The cost function used in Logistic Regression](https://www.analyticsvidhya.com/blog/2020/11/binary-cross-entropy-aka-log-loss-the-cost-function-used-in-logistic-regression/#:~:text=The%20cost%20function%20used%20in%20Logistic%20Regression%20is%20Log%20Loss.)\n",
        "\n",
        "- [Introduction to Logistic Regression](https://towardsdatascience.com/introduction-to-logistic-regression-66248243c148)\n",
        "\n",
        "- [Activation Functions](https://www.baeldung.com/cs/sigmoid-vs-tanh-functions)"
      ],
      "metadata": {
        "id": "S6ZMv5dBPHoT"
      }
    }
  ],
  "metadata": {
    "colab": {
      "provenance": []
    },
    "kernelspec": {
      "display_name": "Python 3 (ipykernel)",
      "language": "python",
      "name": "python3"
    },
    "language_info": {
      "codemirror_mode": {
        "name": "ipython",
        "version": 3
      },
      "file_extension": ".py",
      "mimetype": "text/x-python",
      "name": "python",
      "nbconvert_exporter": "python",
      "pygments_lexer": "ipython3",
      "version": "3.9.12"
    },
    "vscode": {
      "interpreter": {
        "hash": "ee82927b8361fe0e0ec66319841eca50b755b834055a47ec820f8a8c32106018"
      }
    }
  },
  "nbformat": 4,
  "nbformat_minor": 0
}